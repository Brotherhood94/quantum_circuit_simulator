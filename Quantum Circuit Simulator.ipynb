{
 "cells": [
  {
   "cell_type": "markdown",
   "metadata": {},
   "source": [
    "# Quantum Circuit Simulator"
   ]
  },
  {
   "cell_type": "markdown",
   "metadata": {},
   "source": [
    "Follows my implementation of the Quantum Circuit Simulator.\n",
    "The assumptions made are:\n",
    "- Given a gate and $n$ target_quibits, the first n-1 qubits are control qubits, while the last is the target qubit.\n",
    "- Any unitary gate, which has a number of target_qubits > 1, is a controlled gate.\n",
    "    - Example: {'gate': 'x', 'target': '[0,1]'} it is interpret as a X gate whose control qubit is 0 and target qubit is 1 (CX)\n",
    "    - {'gate': 'x', 'target': '[0,1,2]'}, follows the same logic, thus it is a Toffoli gate"
   ]
  },
  {
   "cell_type": "code",
   "execution_count": 1,
   "metadata": {},
   "outputs": [],
   "source": [
    "import numpy as np\n",
    "import matplotlib.pyplot as plt"
   ]
  },
  {
   "cell_type": "code",
   "execution_count": 2,
   "metadata": {},
   "outputs": [],
   "source": [
    "# Define 2x2 identity\n",
    "I = np.identity(2, dtype=np.complex)\n",
    "\n",
    "# Define projection operator |0><0|\n",
    "P0x0 = np.array([ [1,0], [0,0] ], dtype=np.complex)\n",
    "\n",
    "# Define projection operator |1><1|\n",
    "P1x1 = np.array([ [0,0], [0,1] ], dtype=np.complex)"
   ]
  },
  {
   "cell_type": "markdown",
   "metadata": {},
   "source": [
    "### Utility Functions"
   ]
  },
  {
   "cell_type": "code",
   "execution_count": 3,
   "metadata": {},
   "outputs": [],
   "source": [
    "def _to_binary(value : int, n_qubits : int):\n",
    "    # Given a value, returns its binary representation module n_qubits. \n",
    "    bin_str_pattern = '{:0%sb}' % n_qubits\n",
    "    return bin_str_pattern.format(value)[::-1] #Reversing string: first position, less significant bit"
   ]
  },
  {
   "cell_type": "code",
   "execution_count": 4,
   "metadata": {},
   "outputs": [],
   "source": [
    "def normalize(d, target=1.0):\n",
    "   raw = sum(d.values())\n",
    "   factor = target/raw\n",
    "   return {key:value*factor for key,value in d.items()}"
   ]
  },
  {
   "cell_type": "code",
   "execution_count": 5,
   "metadata": {},
   "outputs": [],
   "source": [
    "def _validate_program(total_qubits, program):\n",
    "    # Check if the target qubits in the program instructions are within the qubits allocated in the ground state\n",
    "    qubit_list = range(total_qubits)\n",
    "    for instruction in program:\n",
    "        targets_qubit = instruction['target']\n",
    "        for qubit in targets_qubit:\n",
    "            if qubit not in qubit_list:\n",
    "                raise Exception(\"A target qubit is not present in the circuit. qubit: \", qubit)"
   ]
  },
  {
   "cell_type": "code",
   "execution_count": 6,
   "metadata": {},
   "outputs": [],
   "source": [
    "def _gate_name_to_matrix(gate_name, params=None):\n",
    "    # Given a gate_name, return its matrix representation\n",
    "    # Default gates: 'h', 'x', 'cx', 'ccx' and 'u3'\n",
    "    if gate_name == 'h':\n",
    "        return np.array([[0.70710678, 0.70710678], [0.70710678, -0.70710678]], dtype=np.complex)\n",
    "    elif gate_name == 'x' or gate_name == 'cx' or gate_name == 'ccx':\n",
    "        return np.array([[0,1], [1,0]], dtype=np.complex)\n",
    "    elif gate_name == 'u3' and params != None:\n",
    "        return [[np.cos(params['theta']/2), -np.exp(1j * params['lamb']) * np.sin(params['theta'] / 2)],\n",
    "                [np.exp(1j* params['phi']) * np.sin(params['theta'] / 2), np.exp(1j * params['lamb'] + 1j * params['phi']) * np.cos(params['theta'] / 2)]]\n",
    "    else:\n",
    "        raise Exception(\"Undefined Gate\", gate_name)"
   ]
  },
  {
   "cell_type": "code",
   "execution_count": 7,
   "metadata": {},
   "outputs": [],
   "source": [
    "def _get_matrix_by_qubit_index(qubit_index, control_qubits, target_qubit, i, index, bin_value, gate_unitary):\n",
    "    # Returns a unitary matrix according to the qubit_index:\n",
    "    # - If the qubit is a control qubit, then a projector returns.\n",
    "    # - Else If the qubit is a target qubit and the controls_qubit are set to 11..111, then gate_unitary returns.\n",
    "    # - Else Identity matrix returns.\n",
    "    if qubit_index in control_qubits:\n",
    "        if bin_value[index] == '0':\n",
    "            return P0x0, index+1\n",
    "        else:\n",
    "            return P1x1, index+1\n",
    "    elif qubit_index in target_qubit and i == 2**len(control_qubits) - 1: \n",
    "       return gate_unitary, index\n",
    "    else:\n",
    "        return I, index"
   ]
  },
  {
   "cell_type": "markdown",
   "metadata": {},
   "source": [
    "## Suggested functions"
   ]
  },
  {
   "cell_type": "code",
   "execution_count": 8,
   "metadata": {},
   "outputs": [],
   "source": [
    "def get_ground_state(num_qubits):\n",
    "    # return vector of size 2**num_qubits with all zeroes except first element which is 1\n",
    "    if num_qubits > 0:\n",
    "        gs = np.zeros(2**num_qubits, dtype=np.complex)\n",
    "        gs[0] = 1\n",
    "        return gs\n",
    "    raise Exception(\"Number of qubits must be grater than 0\")"
   ]
  },
  {
   "cell_type": "code",
   "execution_count": 9,
   "metadata": {},
   "outputs": [],
   "source": [
    "def get_operator(total_qubits, gate_unitary, target_qubits):\n",
    "    # return unitary operator of size 2**n x 2**n for given gate and target qubits\n",
    "\n",
    "    #Splitting control qubits and target qubit\n",
    "    # - Assumption: the last qubits in targets_qubit is the target_qubit while the others are controls qubits.\n",
    "    target_qubit = np.array(target_qubits[-1])\n",
    "    control_qubits = target_qubits[:-1]\n",
    "    \n",
    "    # According to the general definition of controlled-gates defined in:\n",
    "    # https://github.com/quantastica/qosf-mentorship/blob/master/qosf-simulator-task-additional-info.pdf\n",
    "    # Given n control_qubits, there will be 2^n combination of  projection operators.\n",
    "    operand = 0\n",
    "    for i in range(2**len(control_qubits)):  \n",
    "        bin_value = _to_binary(i, len(control_qubits)) \n",
    "        temp, index = _get_matrix_by_qubit_index(0, control_qubits, target_qubit, i, 0, bin_value, gate_unitary)\n",
    "        for qubit_index in range(1, total_qubits):\n",
    "            matr, index = _get_matrix_by_qubit_index(qubit_index, control_qubits, target_qubit, i, index, bin_value, gate_unitary)\n",
    "            temp = np.kron(temp, matr)\n",
    "        operand = operand + temp\n",
    "    return operand"
   ]
  },
  {
   "cell_type": "code",
   "execution_count": 10,
   "metadata": {},
   "outputs": [],
   "source": [
    "def run_program(initial_state, program):\n",
    "    # read program, and for each gate:\n",
    "    #   - calculate matrix operator\n",
    "    #   - multiply state with operator\n",
    "    # return final state\n",
    "    total_qubits = int(np.log2(len(initial_state)))\n",
    "    _validate_program(total_qubits, program)\n",
    "    state_vector = initial_state\n",
    "    for instruction in program:\n",
    "        if 'params' in instruction: #u3 rotation\n",
    "            matrix = _gate_name_to_matrix(instruction['gate'], instruction['params'])\n",
    "        else:  #h, c, cx, ccx\n",
    "            matrix = _gate_name_to_matrix(instruction['gate'])\n",
    "        operand = get_operator(total_qubits, matrix, instruction['target'])\n",
    "        state_vector = np.dot(operand, state_vector)\n",
    "    return state_vector"
   ]
  },
  {
   "cell_type": "code",
   "execution_count": 11,
   "metadata": {},
   "outputs": [],
   "source": [
    "def measure_all(state_vector):\n",
    "    # choose element from state_vector using weighted random and return it's index\n",
    "    probabilities = np.array(np.square(state_vector), dtype=float) #complex to float probabilities\n",
    "    indexes = range(len(state_vector))\n",
    "    element_index = np.random.choice(indexes, p=probabilities)\n",
    "    return _to_binary(element_index, int(np.log2(len(state_vector))))"
   ]
  },
  {
   "cell_type": "code",
   "execution_count": 12,
   "metadata": {},
   "outputs": [],
   "source": [
    "def get_counts(state_vector, num_shots):\n",
    "    # simply execute measure_all in a loop num_shots times\n",
    "    counts = {}\n",
    "    for i in range(num_shots):\n",
    "        measurement = measure_all(state_vector)\n",
    "        counts[measurement] = counts.get(measurement, 0) + 1\n",
    "    return counts"
   ]
  },
  {
   "cell_type": "markdown",
   "metadata": {},
   "source": [
    "## Main"
   ]
  },
  {
   "cell_type": "code",
   "execution_count": 13,
   "metadata": {
    "scrolled": true
   },
   "outputs": [
    {
     "name": "stderr",
     "output_type": "stream",
     "text": [
      "<ipython-input-11-ea917e9cc0a7>:3: ComplexWarning: Casting complex values to real discards the imaginary part\n",
      "  probabilities = np.array(np.square(state_vector), dtype=float) #complex to float probabilities\n"
     ]
    },
    {
     "data": {
      "image/png": "[encoded data removed]",
      "text/plain": [
       "<Figure size 432x288 with 1 Axes>"
      ]
     },
     "metadata": {
      "needs_background": "light"
     },
     "output_type": "display_data"
    }
   ],
   "source": [
    "#Example of entanglement\n",
    "\n",
    "my_qpu = get_ground_state(2)\n",
    "\n",
    "my_circuit = [\n",
    "    #{'gate': 'h', 'target': [0]},\n",
    "    {'gate': 'u3', 'params': { 'theta': -1.5708, 'phi': 0, 'lamb': 0}, \"target\": [0]}, #Hadamard\n",
    "    {'gate': 'x', 'target': [0,1]},\n",
    "]\n",
    "\n",
    "final_state = run_program(my_qpu, my_circuit)\n",
    "counts = get_counts(final_state, 1000)\n",
    "\n",
    "plt.bar(*zip(*normalize(counts).items()))\n",
    "plt.show()"
   ]
  },
  {
   "cell_type": "code",
   "execution_count": null,
   "metadata": {},
   "outputs": [],
   "source": []
  }
 ],
 "metadata": {
  "kernelspec": {
   "display_name": "Python 3",
   "language": "python",
   "name": "python3"
  },
  "language_info": {
   "codemirror_mode": {
    "name": "ipython",
    "version": 3
   },
   "file_extension": ".py",
   "mimetype": "text/x-python",
   "name": "python",
   "nbconvert_exporter": "python",
   "pygments_lexer": "ipython3",
   "version": "3.9.1"
  }
 },
 "nbformat": 4,
 "nbformat_minor": 4
}
